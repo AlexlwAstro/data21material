{
 "cells": [
  {
   "cell_type": "code",
   "execution_count": 7,
   "metadata": {},
   "outputs": [
    {
     "name": "stdout",
     "output_type": "stream",
     "text": [
      "done\n"
     ]
    }
   ],
   "source": [
    "\"\"\"import sqlalchemy as sqal\n",
    "\n",
    "server = 'localhost,1433'\n",
    "database = 'Northwind'\n",
    "user = 'SA'\n",
    "password = 'Passw0rd2018'\n",
    "driver = 'ODBC+Driver+17+for+SQL+Server'\n",
    "\n",
    "engine = sqal.create_engine(f\"mssql+pyodbc://{user}:{password}@{server}/{database}?driver={driver}\")\n",
    "\"\"\"\n",
    "print('done')"
   ]
  },
  {
   "cell_type": "markdown",
   "metadata": {},
   "source": [
    "markdown example\n",
    "\n",
    "# headings\n",
    "## subheadings\n",
    "plain text"
   ]
  },
  {
   "cell_type": "code",
   "execution_count": 1,
   "metadata": {},
   "outputs": [
    {
     "name": "stdout",
     "output_type": "stream",
     "text": [
      "done\n"
     ]
    }
   ],
   "source": [
    "import numpy as np\n",
    "import pandas as pd\n",
    "print('done')"
   ]
  },
  {
   "cell_type": "code",
   "execution_count": 8,
   "metadata": {},
   "outputs": [
    {
     "name": "stdout",
     "output_type": "stream",
     "text": [
      "[[1 2 3]\n",
      " [4 5 6]]\n"
     ]
    }
   ],
   "source": [
    "list1 = [1,2,3]\n",
    "arr1 = np.array(list1)\n",
    "\n",
    "list2 = [4,5,6]\n",
    "arr2 = np.array(list2)\n",
    "\n",
    "list3 = [list1,list2]\n",
    "arr3 = np.array(list3)\n",
    "print(arr3)"
   ]
  },
  {
   "cell_type": "code",
   "execution_count": 13,
   "metadata": {},
   "outputs": [
    {
     "name": "stdout",
     "output_type": "stream",
     "text": [
      "(2, 2, 3)\n",
      "[[[1 2 3]\n",
      "  [4 5 6]]\n",
      "\n",
      " [[1 2 3]\n",
      "  [4 5 6]]]\n"
     ]
    }
   ],
   "source": [
    "list4 = [[list1,list2],[list1,list2]]\n",
    "arr4 = np.array(list4)\n",
    "print(arr4.shape)\n",
    "print(arr4)"
   ]
  },
  {
   "cell_type": "code",
   "execution_count": 12,
   "metadata": {},
   "outputs": [
    {
     "name": "stdout",
     "output_type": "stream",
     "text": [
      "[1, 2, 3, 1, 2, 3, 1, 2, 3]\n",
      "[3 6 9]\n"
     ]
    }
   ],
   "source": [
    "print(list1*3)\n",
    "print(arr1*3)"
   ]
  },
  {
   "cell_type": "code",
   "execution_count": 17,
   "metadata": {},
   "outputs": [
    {
     "name": "stdout",
     "output_type": "stream",
     "text": [
      "[1 2 3 4 5]\n",
      "[ 4 10 18]\n"
     ]
    }
   ],
   "source": [
    "arr5 = np.arange(1,6)\n",
    "print(arr5)\n",
    "print(arr1*arr2)"
   ]
  },
  {
   "cell_type": "code",
   "execution_count": 18,
   "metadata": {},
   "outputs": [
    {
     "ename": "ValueError",
     "evalue": "operands could not be broadcast together with shapes (3,) (5,) ",
     "output_type": "error",
     "traceback": [
      "\u001b[1;31m---------------------------------------------------------------------------\u001b[0m",
      "\u001b[1;31mValueError\u001b[0m                                Traceback (most recent call last)",
      "\u001b[1;32m<ipython-input-18-a686d6df4dce>\u001b[0m in \u001b[0;36m<module>\u001b[1;34m\u001b[0m\n\u001b[1;32m----> 1\u001b[1;33m \u001b[0mprint\u001b[0m\u001b[1;33m(\u001b[0m\u001b[0marr1\u001b[0m\u001b[1;33m*\u001b[0m\u001b[0marr5\u001b[0m\u001b[1;33m)\u001b[0m\u001b[1;33m\u001b[0m\u001b[1;33m\u001b[0m\u001b[0m\n\u001b[0m",
      "\u001b[1;31mValueError\u001b[0m: operands could not be broadcast together with shapes (3,) (5,) "
     ]
    }
   ],
   "source": [
    "print(arr1*arr5)"
   ]
  },
  {
   "cell_type": "code",
   "execution_count": 19,
   "metadata": {},
   "outputs": [
    {
     "name": "stdout",
     "output_type": "stream",
     "text": [
      "[[[ 1  4  9]\n",
      "  [ 4 10 18]]\n",
      "\n",
      " [[ 1  4  9]\n",
      "  [ 4 10 18]]]\n"
     ]
    }
   ],
   "source": [
    "print(arr1*arr4)"
   ]
  },
  {
   "cell_type": "code",
   "execution_count": 41,
   "metadata": {},
   "outputs": [
    {
     "name": "stdout",
     "output_type": "stream",
     "text": [
      "\n",
      "1d array: (12,) \n",
      " [ 1  2  3  4  5  6  7  8  9 10 11 12]\n",
      "\n",
      "2d array: (3, 4) \n",
      " [[ 1  2  3  4]\n",
      " [ 5  6  7  8]\n",
      " [ 9 10 11 12]]\n",
      "[ 3  6  9 12]\n",
      "\n",
      "3d array: (5, 3, 4) \n",
      " [[[ 1  2  3  4]\n",
      "  [ 5  6  7  8]\n",
      "  [ 9 10 11 12]]\n",
      "\n",
      " [[ 1  2  3  4]\n",
      "  [ 5  6  7  8]\n",
      "  [ 9 10 11 12]]\n",
      "\n",
      " [[ 1  2  3  4]\n",
      "  [ 5  6  7  8]\n",
      "  [ 9 10 11 12]]\n",
      "\n",
      " [[ 1  2  3  4]\n",
      "  [ 5  6  7  8]\n",
      "  [ 9 10 11 12]]\n",
      "\n",
      " [[ 1  2  3  4]\n",
      "  [ 5  6  7  8]\n",
      "  [ 9 10 11 12]]]\n"
     ]
    }
   ],
   "source": [
    "# create n-dimensional arrays:\n",
    "\n",
    "# 1d, x12\n",
    "list_1d = [i for i in range(1,13)]\n",
    "arr_1d = np.array(list_1d)\n",
    "print('\\n1d array:',arr_1d.shape,'\\n',arr_1d)\n",
    "\n",
    "# 2d, 3x4\n",
    "len_res = 4\n",
    "arr_1st3rd = np.array(list_1d[0:len_res])\n",
    "arr_2nd3rd = np.array(list_1d[len_res:len_res+4])\n",
    "arr_3rd3rd = np.array(list_1d[len_res+4:len_res+8])\n",
    "#arr_2d = np.array([list_1st3rd,list_2nd3rd,list_3rd3rd])\n",
    "list_2d = [arr_1st3rd,arr_2nd3rd,arr_3rd3rd]\n",
    "arr_2d = np.array(list_2d)\n",
    "print('\\n2d array:',arr_2d.shape,'\\n',arr_2d)\n",
    "\n",
    "# 3d, 2x5x4\n",
    "print(arr_1st3rd*3)\n",
    "list_3d = []\n",
    "for i in range(5):\n",
    "    list_3d.append(list_2d)\n",
    "arr_3d = np.array(list_3d)\n",
    "print('\\n3d array:',arr_3d.shape,'\\n',arr_3d)"
   ]
  },
  {
   "cell_type": "code",
   "execution_count": 48,
   "metadata": {},
   "outputs": [
    {
     "name": "stdout",
     "output_type": "stream",
     "text": [
      "[ 2  6 10]\n",
      "12\n",
      "1\n",
      "2\n",
      "3\n",
      "4\n",
      "5\n",
      "6\n",
      "7\n",
      "8\n",
      "9\n",
      "10\n",
      "11\n",
      "12\n"
     ]
    }
   ],
   "source": [
    "print(arr_2d[:,1])\n",
    "print(arr_2d.max())\n",
    "for i in np.nditer(arr_2d):\n",
    "    print(i)"
   ]
  },
  {
   "cell_type": "code",
   "execution_count": null,
   "metadata": {},
   "outputs": [],
   "source": []
  }
 ],
 "metadata": {
  "kernelspec": {
   "display_name": "Python 3",
   "language": "python",
   "name": "python3"
  },
  "language_info": {
   "codemirror_mode": {
    "name": "ipython",
    "version": 3
   },
   "file_extension": ".py",
   "mimetype": "text/x-python",
   "name": "python",
   "nbconvert_exporter": "python",
   "pygments_lexer": "ipython3",
   "version": "3.8.5"
  }
 },
 "nbformat": 4,
 "nbformat_minor": 4
}
